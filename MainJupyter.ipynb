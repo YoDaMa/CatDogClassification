{
 "cells": [
  {
   "cell_type": "code",
   "execution_count": 1,
   "metadata": {
    "collapsed": true
   },
   "outputs": [
    {
     "name": "stdout",
     "output_type": "stream",
     "text": [
      "Image Size: 40\n"
     ]
    },
    {
     "name": "stdout",
     "output_type": "stream",
     "text": [
      "Processed: 0 of 7349\n"
     ]
    },
    {
     "name": "stdout",
     "output_type": "stream",
     "text": [
      "Processed: 100 of 7349\n"
     ]
    },
    {
     "name": "stdout",
     "output_type": "stream",
     "text": [
      "Processed: 200 of 7349\n"
     ]
    },
    {
     "name": "stdout",
     "output_type": "stream",
     "text": [
      "Processed: 300 of 7349\n"
     ]
    },
    {
     "name": "stdout",
     "output_type": "stream",
     "text": [
      "Processed: 400 of 7349\n"
     ]
    },
    {
     "name": "stdout",
     "output_type": "stream",
     "text": [
      "Processed: 500 of 7349\n"
     ]
    },
    {
     "name": "stdout",
     "output_type": "stream",
     "text": [
      "Processed: 600 of 7349\n"
     ]
    },
    {
     "name": "stdout",
     "output_type": "stream",
     "text": [
      "Processed: 700 of 7349\n"
     ]
    },
    {
     "name": "stdout",
     "output_type": "stream",
     "text": [
      "Processed: 800 of 7349\n"
     ]
    },
    {
     "name": "stdout",
     "output_type": "stream",
     "text": [
      "Processed: 900 of 7349\n"
     ]
    },
    {
     "name": "stdout",
     "output_type": "stream",
     "text": [
      "Processed: 1000 of 7349\n"
     ]
    }
   ],
   "source": [
    "import PIL\n",
    "from datetime import datetime\n",
    "from PIL import Image\n",
    "import numpy as np\n",
    "from sklearn.preprocessing import scale\n",
    "\n",
    "import FlatPreProcessing\n",
    "\n",
    "from scipy.misc import imread\n",
    "import matplotlib.pyplot as plt\n",
    "from pathlib import Path\n",
    "\n",
    "BASE_DIR = Path('.')\n",
    "start = datetime.now()\n",
    "(train_data, label_data) = FlatPreProcessing.main()\n",
    "\n",
    "label_data = label_data.ravel()\n",
    "print(\"Train Shape:\", train_data.shape)"
   ]
  },
  {
   "cell_type": "code",
   "execution_count": null,
   "metadata": {},
   "outputs": [],
   "source": [
    "from sklearn.ensemble import RandomForestClassifier\n",
    "\n",
    "rf = RandomForestClassifier(n_estimators=10)\n",
    "print(\"Fitting Random Forest...\")\n",
    "rf.fit(train_data, label_data)\n",
    "print(\"Completed fit.\")\n",
    "finish = datetime.now()\n",
    "print(\"Time: {}\".format(finish-start))"
   ]
  },
  {
   "cell_type": "code",
   "execution_count": 76,
   "metadata": {},
   "outputs": [
    {
     "name": "stdout",
     "output_type": "stream",
     "text": [
      "Fitting Adaboost...\nNumber of Sample: 48162\n"
     ]
    },
    {
     "name": "stdout",
     "output_type": "stream",
     "text": [
      "Completed fit.\nTime: 0:00:31.465852\n"
     ]
    }
   ],
   "source": [
    "from sklearn.ensemble import AdaBoostClassifier\n",
    "\n",
    "clf = AdaBoostClassifier(n_estimators=100)\n",
    "print(\"Fitting Adaboost...\")\n",
    "start1 = datetime.now()\n",
    "# randIndexes = np.random.choice(len(label_data), len(label_data) // 10000)\n",
    "print(\"Number of Sample: {}\".format(len(randIndexes)))\n",
    "# td = [train_data[x] for x in randIndexes]\n",
    "# ld = [label_data[x] for x in randIndexes]\n",
    "td = train_data\n",
    "ld = label_data\n",
    "clf.fit(td, ld)\n",
    "print(\"Completed fit.\")\n",
    "finish1 = datetime.now()\n",
    "print(\"Time: {}\".format(finish1-start1))"
   ]
  },
  {
   "cell_type": "code",
   "execution_count": 69,
   "metadata": {},
   "outputs": [
    {
     "name": "stdout",
     "output_type": "stream",
     "text": [
      "4816\n"
     ]
    }
   ],
   "source": [
    "randIndexes = np.random.choice(len(label_data), len(label_data) // 100000)\n",
    "print(len(randIndexes))"
   ]
  },
  {
   "cell_type": "code",
   "execution_count": 2,
   "metadata": {},
   "outputs": [
    {
     "name": "stdout",
     "output_type": "stream",
     "text": [
      "Processed: 0 of 44\n"
     ]
    },
    {
     "name": "stdout",
     "output_type": "stream",
     "text": [
      "Processed: 0 of 44\n"
     ]
    }
   ],
   "source": [
    "# Import the data matrix of the testing data\n",
    "\n",
    "from LoadTestImages import main\n",
    "\n",
    "test_data = main()"
   ]
  },
  {
   "cell_type": "code",
   "execution_count": 89,
   "metadata": {},
   "outputs": [
    {
     "name": "stdout",
     "output_type": "stream",
     "text": [
      "Predicting Data..\n"
     ]
    },
    {
     "name": "stdout",
     "output_type": "stream",
     "text": [
      "finished Predicting!\n"
     ]
    }
   ],
   "source": [
    "print(\"Predicting Data..\")\n",
    "predictions = clf.predict(train_data[0:10*256**2])\n",
    "print(\"finished Predicting!\")\n",
    "predictions = np.asarray(predictions).ravel()"
   ]
  },
  {
   "cell_type": "code",
   "execution_count": 1,
   "metadata": {
    "collapsed": true
   },
   "outputs": [
    {
     "ename": "NameError",
     "evalue": "name 'predictions' is not defined",
     "traceback": [
      "\u001b[0;31m---------------------------------------------------------------------------\u001b[0m",
      "\u001b[0;31mNameError\u001b[0m                                 Traceback (most recent call last)",
      "\u001b[0;32m<ipython-input-1-05d7271b5cec>\u001b[0m in \u001b[0;36m<module>\u001b[0;34m()\u001b[0m\n\u001b[0;32m----> 1\u001b[0;31m \u001b[0mprint\u001b[0m\u001b[1;33m(\u001b[0m\u001b[0mpredictions\u001b[0m\u001b[1;33m.\u001b[0m\u001b[0mravel\u001b[0m\u001b[1;33m(\u001b[0m\u001b[1;33m)\u001b[0m\u001b[1;33m.\u001b[0m\u001b[0mshape\u001b[0m\u001b[1;33m)\u001b[0m\u001b[1;33m\u001b[0m\u001b[0m\n\u001b[0m\u001b[1;32m      2\u001b[0m \u001b[0mprint\u001b[0m\u001b[1;33m(\u001b[0m\u001b[0mpredictions\u001b[0m\u001b[1;33m)\u001b[0m\u001b[1;33m\u001b[0m\u001b[0m\n\u001b[1;32m      3\u001b[0m \u001b[0mprint\u001b[0m\u001b[1;33m(\u001b[0m\u001b[0mlabel_data\u001b[0m\u001b[1;33m.\u001b[0m\u001b[0mshape\u001b[0m\u001b[1;33m)\u001b[0m\u001b[1;33m\u001b[0m\u001b[0m\n\u001b[1;32m      4\u001b[0m \u001b[0mprint\u001b[0m\u001b[1;33m(\u001b[0m\u001b[0mtrain_data\u001b[0m\u001b[1;33m[\u001b[0m\u001b[1;36m0\u001b[0m\u001b[1;33m:\u001b[0m\u001b[1;36m80\u001b[0m\u001b[1;33m**\u001b[0m\u001b[1;36m2\u001b[0m\u001b[1;33m]\u001b[0m\u001b[1;33m)\u001b[0m\u001b[1;33m\u001b[0m\u001b[0m\n",
      "\u001b[0;31mNameError\u001b[0m: name 'predictions' is not defined"
     ],
     "output_type": "error"
    }
   ],
   "source": [
    "print(predictions.ravel().shape)\n",
    "print(predictions)\n",
    "print(label_data.shape)\n",
    "print(train_data[0:80**2])"
   ]
  },
  {
   "cell_type": "code",
   "execution_count": 91,
   "metadata": {
    "collapsed": true
   },
   "outputs": [
    {
     "name": "stdout",
     "output_type": "stream",
     "text": [
      "256\n(655360,)\n"
     ]
    },
    {
     "name": "stdout",
     "output_type": "stream",
     "text": [
      "Mode Filtered.\n"
     ]
    }
   ],
   "source": [
    "# K Neighbors\n",
    "import LoadTestImages\n",
    "from PIL import ImageFilter\n",
    "prediction_list = np.asarray(predictions)\n",
    "s_n = LoadTestImages.SIZE\n",
    "num_im = 10\n",
    "print(s_n)\n",
    "print(prediction_list.shape)\n",
    "image_list = prediction_list.reshape(num_im, s_n, s_n)\n",
    "filt_image_list = np.ndarray((num_im, s_n, s_n))\n",
    "for i in range(num_im):\n",
    "    im = Image.fromarray(image_list[i])\n",
    "    im_mode = im.filter(ImageFilter.ModeFilter(9))\n",
    "    filt_image_list[i] = im_mode\n",
    "# test_coords = test_data[:, 3:]\n",
    "# print(test_coords.shape)\n",
    "# \n",
    "# print(\"KNN Beginning\")\n",
    "# neigh = KNeighborsClassifier(n_neighbors=15)\n",
    "# neigh.fit(test_coords, predictions.ravel())\n",
    "# \n",
    "# \n",
    "# kpredictions = neigh.predict(test_coords)\n",
    "# \n",
    "# print(\"Pred Shape\", predictions.shape)\n",
    "# \n",
    "# predictions = neigh.predict(test_data.ravel())\n",
    "print(\"Mode Filtered.\")"
   ]
  },
  {
   "cell_type": "code",
   "execution_count": 32,
   "metadata": {
    "collapsed": true
   },
   "outputs": [],
   "source": [
    "# # K Neighbors\n",
    "# test_coords = train_data[:, 3:]\n",
    "# print(test_coords.shape)\n",
    "# \n",
    "# print(\"KNN Beginning\")\n",
    "# neigh = KNeighborsClassifier(n_neighbors=2)\n",
    "# neigh.fit(test_coords, predictions.ravel())\n",
    "# \n",
    "# predictions = neigh.predict(test_coords)\n",
    "# \n",
    "# print(\"Pred Shape\", predictions.shape)"
   ]
  },
  {
   "cell_type": "code",
   "execution_count": 95,
   "metadata": {
    "collapsed": true
   },
   "outputs": [
    {
     "name": "stdout",
     "output_type": "stream",
     "text": [
      "True Positives... 188712\nFalse Positives... 88043\nFalse Negatives... 78217\nPrecision... 0.6818738595508663\nRecall... 0.7069745138220276\n0.694197364646\n"
     ]
    }
   ],
   "source": [
    "# Calculate Dice Similarity Coefficient\n",
    "# dice_p = filt_image_list.ravel()\n",
    "dice_p = prediction_list.ravel()\n",
    "truepos = np.sum(np.multiply(dice_p, label_data[0:10*s_n**2]))\n",
    "print(\"True Positives... {}\".format(truepos))\n",
    "falsepos = np.sum(dice_p) - truepos\n",
    "print(\"False Positives... {}\".format(falsepos))\n",
    "\n",
    "falseneg = np.sum(label_data[0:10*s_n**2]) - truepos\n",
    "print(\"False Negatives... {}\".format(falseneg))\n",
    "precision = truepos / (truepos+falsepos)\n",
    "print(\"Precision... {}\".format(precision))\n",
    "recall = truepos / (truepos+falseneg)\n",
    "print(\"Recall... {}\".format(recall))\n",
    "dice = 2 * precision * recall / (precision + recall)\n",
    "\n",
    "print(dice)"
   ]
  },
  {
   "cell_type": "code",
   "execution_count": 97,
   "metadata": {
    "collapsed": true
   },
   "outputs": [
    {
     "name": "stdout",
     "output_type": "stream",
     "text": [
      "(655360,)\n"
     ]
    },
    {
     "data": {
      "text/plain": [
       "(10, 256, 256)"
      ]
     },
     "execution_count": 97,
     "metadata": {},
     "output_type": "execute_result"
    }
   ],
   "source": [
    "import LoadTestImages\n",
    "pred_image = np.asarray(predictions)\n",
    "print(pred_image.shape)\n",
    "t_n = LoadTestImages.SIZE\n",
    "pred_image = pred_image.reshape(num_im, t_n, t_n)\n",
    "pred_image.shape"
   ]
  },
  {
   "cell_type": "code",
   "execution_count": 102,
   "metadata": {
    "collapsed": true
   },
   "outputs": [
    {
     "name": "stdout",
     "output_type": "stream",
     "text": [
      "(655360,)\n"
     ]
    },
    {
     "data": {
      "image/png": "[encoded data removed]",
      "text/plain": [
       "<matplotlib.figure.Figure at 0x21166c87e80>"
      ]
     },
     "metadata": {},
     "output_type": "display_data"
    }
   ],
   "source": [
    "from scipy.misc import imread\n",
    "import matplotlib.pyplot as plt\n",
    "lb = np.asarray(label_data[0:10*256**2])\n",
    "print(lb.shape)\n",
    "lb = lb.reshape(10, t_n, t_n)\n",
    "plt.imshow(lb[0])\n",
    "plt.show()"
   ]
  },
  {
   "cell_type": "code",
   "execution_count": 104,
   "metadata": {
    "collapsed": false
   },
   "outputs": [
    {
     "data": {
      "image/png": "[encoded data removed]",
      "text/plain": [
       "<matplotlib.figure.Figure at 0x2116716af28>"
      ]
     },
     "metadata": {},
     "output_type": "display_data"
    }
   ],
   "source": [
    "im = pred_image[0]\n",
    "im = Image.fromarray(im).convert('L')\n",
    "# im = Image.open('labelled/31.png')\n",
    "im1 = im.load()\n",
    "plt.imshow(im)\n",
    "plt.show()"
   ]
  },
  {
   "cell_type": "code",
   "execution_count": 79,
   "metadata": {},
   "outputs": [
    {
     "name": "stdout",
     "output_type": "stream",
     "text": [
      "(500, 328)\n0\n"
     ]
    },
    {
     "data": {
      "image/png": "[encoded data removed]",
      "text/plain": [
       "<matplotlib.figure.Figure at 0x1c2d44d4630>"
      ]
     },
     "metadata": {},
     "output_type": "display_data"
    }
   ],
   "source": [
    "im = Image.open('labelled_1345/10.png')\n",
    "print(im.size)\n",
    "im1 = im.load()\n",
    "print(im1[200,150])\n",
    "plt.imshow(im)\n",
    "plt.show()"
   ]
  },
  {
   "cell_type": "code",
   "execution_count": 78,
   "metadata": {},
   "outputs": [
    {
     "name": "stdout",
     "output_type": "stream",
     "text": [
      "Saved Files\n"
     ]
    }
   ],
   "source": [
    "import os\n",
    "from pathlib import Path\n",
    "TRI_DIR = Path('../CatDogDataSet/test_images')\n",
    "BASE_DIR = Path('.')\n",
    "base_out = Path(BASE_DIR, 'labelled')\n",
    "test_dir_out = Path(base_out, 'train')\n",
    "os.makedirs(str(test_dir_out), exist_ok=True)\n",
    "\n",
    "test_path = [x for x in TRI_DIR.iterdir() if TRI_DIR.is_dir() and '.jpg' in str(x).lower()]\n",
    "test_sizes = []\n",
    "for p in test_path:\n",
    "    img = Image.open(p)\n",
    "    test_sizes.append(img.size)\n",
    "    \n",
    "# print(test_sizes)\n",
    "test_names = [os.path.basename(str(x)).split('.')[0] for x in test_path]\n",
    "test_names = ['0{}'.format(x) if (len(x)==1) else x for x in test_names]\n",
    "# print(test_names)\n",
    "count = len(test_names)\n",
    "for i in range(count):\n",
    "    (n_x, n_y) = test_sizes[i]\n",
    "    im = filt_image_list[i]\n",
    "    im = Image.fromarray(im).convert('L')\n",
    "    im = im.resize((n_x,n_y), resample=Image.ANTIALIAS)\n",
    "    basename = '{}.png'.format(test_names[i])\n",
    "    # print(basename)\n",
    "    path_out = os.path.join(str(base_out), basename)\n",
    "    # print(\"Path out:\", str(path_out))\n",
    "    im.save(path_out)\n",
    "# test_mat = np.ndarray(count, 32, 32)\n",
    "\n",
    "print(\"Saved Files\")"
   ]
  },
  {
   "cell_type": "code",
   "execution_count": null,
   "metadata": {},
   "outputs": [],
   "source": [
    ""
   ]
  }
 ],
 "metadata": {
  "kernelspec": {
   "display_name": "Python 2",
   "language": "python",
   "name": "python2"
  },
  "language_info": {
   "codemirror_mode": {
    "name": "ipython",
    "version": 2.0
   },
   "file_extension": ".py",
   "mimetype": "text/x-python",
   "name": "python",
   "nbconvert_exporter": "python",
   "pygments_lexer": "ipython2",
   "version": "2.7.6"
  }
 },
 "nbformat": 4,
 "nbformat_minor": 0
}