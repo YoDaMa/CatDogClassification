{
 "cells": [
  {
   "cell_type": "code",
   "execution_count": 11,
   "metadata": {
    "collapsed": false,
    "scrolled": true
   },
   "outputs": [],
   "source": [
    "from pathlib import Path\n",
    "\n",
    "pathToList = Path('../CatDogDataSet/annotations/list.txt')\n",
    "f = open(str(pathToList),'r')\n",
    "fList = f.readlines()"
   ]
  },
  {
   "cell_type": "code",
   "execution_count": 19,
   "metadata": {
    "collapsed": false
   },
   "outputs": [
    {
     "name": "stdout",
     "output_type": "stream",
     "text": [
      "Abyssinian_100\n"
     ]
    }
   ],
   "source": [
    "import numpy as np\n",
    "catList = []\n",
    "dogList = []\n",
    "for i in fList:\n",
    "    iList = i.split()\n",
    "    if '#' not in iList[0]:\n",
    "        firstLetter = iList[0][0]\n",
    "        if firstLetter.islower():\n",
    "            dogList.append(iList)\n",
    "        else:\n",
    "            catList.append(iList)\n",
    "dogList[0]\n",
    "catPictures = [x[0] for x in catList]\n",
    "print(catPictures[0])"
   ]
  },
  {
   "cell_type": "code",
   "execution_count": 18,
   "metadata": {
    "collapsed": false
   },
   "outputs": [
    {
     "name": "stdout",
     "output_type": "stream",
     "text": [
      "american_pit_bull_terrier\n"
     ]
    }
   ],
   "source": [
    "a = dogList[50][0]\n",
    "s = ''.join(i for i in a if not i.isdigit())\n",
    "s = s[:-1]\n",
    "print(s)"
   ]
  },
  {
   "cell_type": "code",
   "execution_count": 14,
   "metadata": {
    "collapsed": false,
    "scrolled": false
   },
   "outputs": [
    {
     "data": {
      "text/plain": [
       "['pug_100', '26', '2', '18']"
      ]
     },
     "execution_count": 14,
     "metadata": {},
     "output_type": "execute_result"
    }
   ],
   "source": [
    "# Instead of catList and DogList, let's make catDict and dogDict...\n",
    "from collections import defaultdict\n",
    "catDict = defaultdict(list)\n",
    "dogDict = defaultdict(list)\n",
    "for i in fList:\n",
    "    iList = i.split()\n",
    "    if '#' not in iList[0]:\n",
    "        firstLetter = iList[0][0]\n",
    "        if firstLetter.islower():\n",
    "            s = ''.join(j for j in iList[0] if not j.isdigit())[:-1]\n",
    "            dogDict[s].append(iList)\n",
    "        else:\n",
    "            s = ''.join(j for j in iList[0] if not j.isdigit())[:-1]\n",
    "            catDict[s].append(iList)\n",
    "\n",
    "s = catDict.keys()\n",
    "\n",
    "dogDict[list(dogDict.keys())[0]][0]"
   ]
  },
  {
   "cell_type": "code",
   "execution_count": 15,
   "metadata": {
    "collapsed": false
   },
   "outputs": [],
   "source": [
    "import PIL\n",
    "from PIL import Image\n",
    "import numpy as np\n",
    "\n",
    "import glob\n",
    "from multiprocessing import Process\n",
    "import os\n",
    "import re\n",
    "\n",
    "from scipy.misc import imread\n",
    "import matplotlib.pyplot as plt\n",
    "from pathlib import Path\n",
    "\n",
    "\n",
    "SIZE = 250\n",
    "TRI_DIR = Path('../CatDogDataSet/annotations/trimaps')\n",
    "IMG_DIR = Path('../CatDogDataSet/images')\n",
    "BASE_DIR = Path('.')\n",
    "# get all the names of the trimaps images.\n",
    "\n",
    "\n",
    "\n",
    "# tri = imread(p.resolve())\n",
    "# tri = imread('Abyssinian_3.png')\n",
    "# plt.imshow(tri)\n",
    "# plt.show()\n",
    "\n",
    "\n",
    "\n",
    "\n",
    "# Inspiration: https://www.kaggle.com/gauss256/ ...\n",
    "# dogs-vs-cats-redux-kernels-edition/preprocess-images\n",
    "\n",
    "def norm_image(img):\n",
    "    \"\"\"\n",
    "     Normalize PIL image\n",
    "\n",
    "    Normalizes luminance to (mean,std)=(0,1),\n",
    "    and applies a [1%, 99%] contrast stretch\n",
    "    \"\"\"\n",
    "    # YCbCr allows for adjustment of luma component (Y)\n",
    "    img_y, img_b, img_r = img.convert('YCbCr').split()\n",
    "\n",
    "    img_y_np = np.asarray(img_y).astype(float)\n",
    "\n",
    "    img_y_np /= 255\n",
    "    img_y_np -= img_y_np.mean()\n",
    "    img_y_np /= img_y_np.std()\n",
    "    scale = np.max([np.abs(np.percentile(img_y_np, 1.0)),\n",
    "                    np.abs(np.percentile(img_y_np, 99.0))])\n",
    "\n",
    "    img_y_np = img_y_np / scale\n",
    "    img_y_np = np.clip(img_y_np, -1.0, 1.0)\n",
    "    img_y_np = (img_y_np + 1.0) / 2.0\n",
    "\n",
    "    img_y_np = (img_y_np * 255 + .05).astype(np.uint8)\n",
    "\n",
    "    img_y = Image.fromarray(img_y_np)\n",
    "\n",
    "    img_ybr = Image.merge('YCbCr', (img_y, img_b, img_r))\n",
    "\n",
    "    img_nrm = img_ybr.convert('RGB')\n",
    "\n",
    "    return img_nrm\n",
    "\n",
    "\n",
    "def resize_image(img, size):\n",
    "    return img\n",
    "\n",
    "\n",
    "def prep_images(paths, out_dir):\n",
    "    \"\"\"\n",
    "\n",
    "    :param paths: paths to images\n",
    "    :param out_dir: directory to write outputs to\n",
    "    :return: nothing\n",
    "    \"\"\"\n",
    "    print(\"Prepping Images...\")\n",
    "    for count, path in enumerate(paths):\n",
    "        if count % 100 == 0:\n",
    "            print(path)\n",
    "        ext = os.path.splitext(str(path))[-1].lower()\n",
    "        if ext == \".jpg\":\n",
    "            print(path)\n",
    "            img = Image.open(path)\n",
    "            img_nrm = norm_image(img)\n",
    "            img_res = resize_image(img_nrm, SIZE)\n",
    "            basename = os.path.basename(str(path))\n",
    "            path_out = os.path.join(str(out_dir), str(basename))\n",
    "            img_res.save(path_out)\n",
    "        else:\n",
    "            print(\"Weird extension: {}\".format(path))"
   ]
  },
  {
   "cell_type": "code",
   "execution_count": 16,
   "metadata": {
    "collapsed": false,
    "scrolled": true
   },
   "outputs": [],
   "source": [
    "def main():\n",
    "    print(\"Hello!\")\n",
    "    \"\"\"Main program for running from command line\"\"\"\n",
    "    print(\"Hello\")\n",
    "    # Get the paths to all the image files\n",
    "    tri_img = [x for x in TRI_DIR.iterdir() if TRI_DIR.is_dir()]\n",
    "    train_img = [x for x in IMG_DIR.iterdir() if IMG_DIR.is_dir()]\n",
    "\n",
    "\n",
    "\n",
    "    # Make the output directories\n",
    "    base_out = Path(BASE_DIR, 'data{}'.format(SIZE))\n",
    "    train_dir_out = Path(base_out, 'train')\n",
    "    # test_dir_out = Path(base_out, 'test')\n",
    "    os.makedirs(str(train_dir_out), exist_ok=True)\n",
    "    # os.makedirs(str(test_dir_out), exist_ok=True)\n",
    "    prep_images(train_img,train_dir_out)\n",
    "#     procs = dict()\n",
    "#     procs[1] = Process(target=prep_images, args=(train_img,\n",
    "#                                                  train_dir_out, ))\n",
    "#     procs[1].start()\n",
    "#     procs[1].join()\n",
    "    print(\"finished parallelized task\")\n",
    "\n",
    "\n",
    "\n",
    "\n",
    "# main()"
   ]
  },
  {
   "cell_type": "code",
   "execution_count": 23,
   "metadata": {
    "collapsed": true
   },
   "outputs": [
    {
     "ename": "OSError",
     "evalue": "Failed to interpret file 'C:\\\\Users\\\\yosep\\\\Documents\\\\Junior 1\\\\ELEC301\\\\Homework\\\\CatDogClassification\\\\data3100\\\\test\\\\Abyssinian_10' as a pickle",
     "traceback": [
      "\u001b[0;31m---------------------------------------------------------------------------\u001b[0m",
      "\u001b[0;31mValueError\u001b[0m                                Traceback (most recent call last)",
      "\u001b[0;32mC:\\Users\\yosep\\Anaconda3\\lib\\site-packages\\numpy\\lib\\npyio.py\u001b[0m in \u001b[0;36mload\u001b[0;34m(file, mmap_mode, allow_pickle, fix_imports, encoding)\u001b[0m\n\u001b[1;32m    412\u001b[0m             \u001b[1;32mtry\u001b[0m\u001b[1;33m:\u001b[0m\u001b[1;33m\u001b[0m\u001b[0m\n\u001b[0;32m--> 413\u001b[0;31m                 \u001b[1;32mreturn\u001b[0m \u001b[0mpickle\u001b[0m\u001b[1;33m.\u001b[0m\u001b[0mload\u001b[0m\u001b[1;33m(\u001b[0m\u001b[0mfid\u001b[0m\u001b[1;33m,\u001b[0m \u001b[1;33m**\u001b[0m\u001b[0mpickle_kwargs\u001b[0m\u001b[1;33m)\u001b[0m\u001b[1;33m\u001b[0m\u001b[0m\n\u001b[0m\u001b[1;32m    414\u001b[0m             \u001b[1;32mexcept\u001b[0m\u001b[1;33m:\u001b[0m\u001b[1;33m\u001b[0m\u001b[0m\n",
      "\u001b[0;31mValueError\u001b[0m: unsupported pickle protocol: 128",
      "\nDuring handling of the above exception, another exception occurred:\n",
      "\u001b[0;31mOSError\u001b[0m                                   Traceback (most recent call last)",
      "\u001b[0;32m<ipython-input-23-9bf61ba98f24>\u001b[0m in \u001b[0;36m<module>\u001b[0;34m()\u001b[0m\n\u001b[1;32m      1\u001b[0m \u001b[1;32mimport\u001b[0m \u001b[0mnumpy\u001b[0m \u001b[1;32mas\u001b[0m \u001b[0mnp\u001b[0m\u001b[1;33m\u001b[0m\u001b[0m\n\u001b[1;32m      2\u001b[0m \u001b[0mp\u001b[0m \u001b[1;33m=\u001b[0m \u001b[1;34m'C:\\\\Users\\\\yosep\\\\Documents\\\\Junior 1\\\\ELEC301\\\\Homework\\\\CatDogClassification\\\\data3100\\\\test\\\\Abyssinian_10'\u001b[0m\u001b[1;33m\u001b[0m\u001b[0m\n\u001b[0;32m----> 3\u001b[0;31m \u001b[0ma\u001b[0m \u001b[1;33m=\u001b[0m \u001b[0mnp\u001b[0m\u001b[1;33m.\u001b[0m\u001b[0mload\u001b[0m\u001b[1;33m(\u001b[0m\u001b[0mp\u001b[0m\u001b[1;33m)\u001b[0m\u001b[1;33m\u001b[0m\u001b[0m\n\u001b[0m\u001b[1;32m      4\u001b[0m \u001b[0mprint\u001b[0m\u001b[1;33m(\u001b[0m\u001b[0ma\u001b[0m\u001b[1;33m)\u001b[0m\u001b[1;33m\u001b[0m\u001b[0m\n",
      "\u001b[0;32mC:\\Users\\yosep\\Anaconda3\\lib\\site-packages\\numpy\\lib\\npyio.py\u001b[0m in \u001b[0;36mload\u001b[0;34m(file, mmap_mode, allow_pickle, fix_imports, encoding)\u001b[0m\n\u001b[1;32m    414\u001b[0m             \u001b[1;32mexcept\u001b[0m\u001b[1;33m:\u001b[0m\u001b[1;33m\u001b[0m\u001b[0m\n\u001b[1;32m    415\u001b[0m                 raise IOError(\n\u001b[0;32m--> 416\u001b[0;31m                     \"Failed to interpret file %s as a pickle\" % repr(file))\n\u001b[0m\u001b[1;32m    417\u001b[0m     \u001b[1;32mfinally\u001b[0m\u001b[1;33m:\u001b[0m\u001b[1;33m\u001b[0m\u001b[0m\n\u001b[1;32m    418\u001b[0m         \u001b[1;32mif\u001b[0m \u001b[0mown_fid\u001b[0m\u001b[1;33m:\u001b[0m\u001b[1;33m\u001b[0m\u001b[0m\n",
      "\u001b[0;31mOSError\u001b[0m: Failed to interpret file 'C:\\\\Users\\\\yosep\\\\Documents\\\\Junior 1\\\\ELEC301\\\\Homework\\\\CatDogClassification\\\\data3100\\\\test\\\\Abyssinian_10' as a pickle"
     ],
     "output_type": "error"
    }
   ],
   "source": [
    "import numpy as np\n",
    "p = 'C:\\\\Users\\\\yosep\\\\Documents\\\\Junior 1\\\\ELEC301\\\\Homework\\\\CatDogClassification\\\\data3100\\\\test\\\\Abyssinian_10'\n",
    "a = np.load(p)\n",
    "print(a)"
   ]
  },
  {
   "cell_type": "code",
   "execution_count": null,
   "metadata": {},
   "outputs": [],
   "source": [
    ""
   ]
  }
 ],
 "metadata": {
  "anaconda-cloud": {},
  "kernelspec": {
   "display_name": "Python [conda root]",
   "language": "python",
   "name": "conda-root-py"
  },
  "language_info": {
   "codemirror_mode": {
    "name": "ipython",
    "version": 3.0
   },
   "file_extension": ".py",
   "mimetype": "text/x-python",
   "name": "python",
   "nbconvert_exporter": "python",
   "pygments_lexer": "ipython3",
   "version": "3.5.2"
  }
 },
 "nbformat": 4,
 "nbformat_minor": 0
}