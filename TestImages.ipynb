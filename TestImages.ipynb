{
 "cells": [
  {
   "cell_type": "code",
   "execution_count": 1,
   "metadata": {
    "collapsed": false
   },
   "outputs": [
    {
     "name": "stdout",
     "output_type": "stream",
     "text": [
      "..\\CatDogDataSet\\images\\Abyssinian_49.jpg\n..\\CatDogDataSet\\annotations\\trimaps\\Abyssinian_51.png\n"
     ]
    }
   ],
   "source": [
    "from pathlib import Path\n",
    "TRI_DIR = Path('../CatDogDataSet/annotations/trimaps')\n",
    "IMG_DIR = Path('../CatDogDataSet/images')\n",
    "BASE_DIR = Path('.')\n",
    "tri_img = [x for x in TRI_DIR.iterdir() if TRI_DIR.is_dir()]\n",
    "train_img = [x for x in IMG_DIR.iterdir() if IMG_DIR.is_dir()]\n",
    "test_img = [x for x in tri_img if '._' not in str(x)]\n",
    "print(train_img[150])\n",
    "print(test_img[150])"
   ]
  },
  {
   "cell_type": "code",
   "execution_count": 97,
   "metadata": {
    "collapsed": false
   },
   "outputs": [
    {
     "name": "stdout",
     "output_type": "stream",
     "text": [
      "(597, 728)\n(128, 128)\n(4, 128, 128)\n(16384,)\n[2 2 2 2 2 2 2 2 2 2 2 2 2 2 2 2 2 2 2 2 2 2 2 2 2 2 2 2 2 2 2 2 2 2 2 2 2\n 2 2 2 2 2 2 2 2 2 2 2 2 2 2 2 2 2 2 2 2 2 2 2 2 2 2 2 2 2 2 2 3 3 3 3 3 3\n 1 1 1 1 1 3 3 3 3 2 2 2 2 2 2 2 2 2 2 2 2 2 2 2 2 2 2 2 2 2 2 2 2 2 2 2 2\n 2 2 2 2 2 2 2 2 2 2 2 2 2 2 2 2 2]\n(16384,)\n[ 2.  2.  2.  2.  2.  2.  2.  2.  2.  2.  2.  2.  2.  2.  2.  2.  2.  2.\n  2.  2.  2.  2.  2.  2.  2.  2.  2.  2.  2.  2.  2.  2.  2.  2.  2.  2.\n  2.  2.  2.  2.  2.  2.  2.  2.  2.  2.  2.  2.  2.  2.  2.  2.  2.  2.\n  2.  2.  2.  2.  2.  2.  2.  2.  2.  2.  2.  2.  2.  2.  3.  3.  3.  3.\n  3.  3.  1.  1.  1.  1.  1.  3.  3.  3.  3.  2.  2.  2.  2.  2.  2.  2.\n  2.  2.  2.  2.  2.  2.  2.  2.  2.  2.  2.  2.  2.  2.  2.  2.  2.  2.\n  2.  2.  2.  2.  2.  2.  2.  2.  2.  2.  2.  2.  2.  2.  2.  2.  2.  2.\n  2.  2.]\n"
     ]
    }
   ],
   "source": [
    "import cv2\n",
    "import numpy as np\n",
    "\n",
    "datamat = np.ndarray((4,128,128))\n",
    "coord = 10\n",
    "im = cv2.imread(str(train_img[150]), cv2.IMREAD_COLOR)\n",
    "im = cv2.resize(im, (128, 128), interpolation=cv2.INTER_CUBIC)\n",
    "im2 = Image.open(test_img[150])\n",
    "im2 = np.asarray(im2,dtype=np.uint8)\n",
    "print(im2.shape)\n",
    "im2 = cv2.resize(im2, (128, 128), interpolation=cv2.INTER_CUBIC)\n",
    "\n",
    "print(im2.shape)\n",
    "# When you take the transpose it is now RGB, Column, Row.\n",
    "data = im2.ravel()\n",
    "for i in range(4):\n",
    "    datamat[i] = im2\n",
    "print(datamat.shape)\n",
    "datamat = datamat.reshape(4*128**2)\n",
    "datamat = datamat[0:16384]\n",
    "print(datamat.shape)\n",
    "print(im2[coord])\n",
    "print(data.shape)\n",
    "data = datamat.reshape(128,128)\n",
    "print(data[coord])"
   ]
  },
  {
   "cell_type": "code",
   "execution_count": 16,
   "metadata": {
    "collapsed": false
   },
   "outputs": [
    {
     "name": "stdout",
     "output_type": "stream",
     "text": [
      "<PIL.Image.Image image mode=L size=600x400 at 0x25BFC495D30>\nNone (600, 400) F\nMatrix Dimensions: (700, 700)\nType Pix: <class 'PixelAccess'>\nPixelArray: <PixelAccess object at 0x0000025BFC3E6110>\n<class 'numpy.ndarray'>\n0\n"
     ]
    },
    {
     "data": {
      "image/png": "[encoded data removed]",
      "text/plain": [
       "<matplotlib.figure.Figure at 0x25bfc417d68>"
      ]
     },
     "metadata": {},
     "output_type": "display_data"
    }
   ],
   "source": [
    "from PIL import Image\n",
    "import numpy as np\n",
    "\n",
    "# Pixel Annotations: 1: Foreground 2:Background 3: Not classified\n",
    "\n",
    "size = 700\n",
    "img = Image.open(test_img[0])\n",
    "\n",
    "img_y, img_b, img_r = img.convert('YCbCr').split()\n",
    "print(img_y)\n",
    "\n",
    "img_ybr = Image.merge('YCbCr', (img_y, img_b, img_r))\n",
    "# img.show()\n",
    "n_x, n_y = img.size\n",
    "\n",
    "if n_y > n_x:\n",
    "    n_y_new = size\n",
    "    n_x_new = round(size * n_x / n_y)\n",
    "else:\n",
    "    n_x_new = size\n",
    "    n_y_new = round(size * n_y / n_x)\n",
    "img_np = np.asarray(img).astype(float)\n",
    "img_np = np.abs(img_np - 2)\n",
    "img = Image.fromarray(img_np)\n",
    "\n",
    "print(img.format, img.size, img.mode)\n",
    "img_pad = Image.new('L', (size,size), 0)\n",
    "ulc = ((size - n_x_new) // 2, (size - n_y_new) // 2)\n",
    "img_pad.paste(img, ulc)\n",
    "img_mat = np.asarray(img_pad, dtype=np.uint8)\n",
    "print(\"Matrix Dimensions:\", img_mat.shape)\n",
    "pix = img_pad.load()\n",
    "print(\"Type Pix:\", type(pix))\n",
    "pixarray = np.asarray(pix)\n",
    "print(\"PixelArray:\", pixarray)\n",
    "print(type(pixarray))\n",
    "# for x in range(200):\n",
    "#     for y in range(600):\n",
    "#         pix[x, y] = 0\n",
    "# pix[200, 600] = 2\n",
    "print(pix[600, 400])\n",
    "# img_change[10:100, 10:100] = 4\n",
    "# pixarray1 = Image.fromarray(pixarray, 'L')\n",
    "plt.imshow(img_pad)\n",
    "plt.show()\n",
    "# img_pad.save('TEST.png')"
   ]
  },
  {
   "cell_type": "code",
   "execution_count": 10,
   "metadata": {
    "collapsed": true
   },
   "outputs": [
    {
     "name": "stdout",
     "output_type": "stream",
     "text": [
      "[112  85  58]\n"
     ]
    }
   ],
   "source": [
    "import matplotlib.pyplot as plt\n",
    "from scipy.misc import imread\n",
    "\n",
    "tri = imread(train_img[0])\n",
    "# print(tri)\n",
    "# It looks like it treats it as row, column, rather than x, y.\n",
    "print(tri[200, 300])\n",
    "plt.imshow(tri)\n",
    "plt.show()\n",
    "print(\"Hello\")"
   ]
  },
  {
   "cell_type": "code",
   "execution_count": 23,
   "metadata": {
    "collapsed": false
   },
   "outputs": [
    {
     "name": "stdout",
     "output_type": "stream",
     "text": [
      "<PIL.Image.Image image mode=L size=600x400 at 0x25BFBF203C8>\nJPEG (600, 400) RGB\nType Pix: <class 'PixelAccess'>\nPixelArray: <PixelAccess object at 0x0000025BFBEBBDD0>\n"
     ]
    }
   ],
   "source": [
    "# Pixel Annotations: 1: Foreground 2:Background 3: Not classified\n",
    "\n",
    "size = 700\n",
    "img = Image.open(train_img[0])\n",
    "\n",
    "img_y, img_b, img_r = img.convert('YCbCr').split()\n",
    "print(img_y)\n",
    "\n",
    "img_ybr = Image.merge('YCbCr', (img_y, img_b, img_r))\n",
    "# img.show()\n",
    "n_x, n_y = img.size\n",
    "print(img.format, img.size, img.mode)\n",
    "img_pad = Image.new('RGB', (size, size), (128, 128, 128))\n",
    "ulc = ((size - n_x) // 2, (size - n_y) // 2)\n",
    "img_pad.paste(img, ulc)\n",
    "pix = img.load()\n",
    "print(\"Type Pix:\", type(pix))\n",
    "pixarray = np.asarray(pix)\n",
    "print(\"PixelArray:\", pixarray)\n",
    "# print(type(pixarray))\n",
    "# for x in range(200):\n",
    "#     for y in range(600):\n",
    "#         pix[x, y] = 0\n",
    "# pix[200, 600] = 2\n",
    "# print(pix[10, 10])\n",
    "# img_change[10:100, 10:100] = 4\n",
    "# pixarray1 = Image.fromarray(pixarray, 'L')\n",
    "plt.imshow(img_pad)\n",
    "plt.show()\n",
    "# img_pad.save('TEST.png')"
   ]
  },
  {
   "cell_type": "code",
   "execution_count": 53,
   "metadata": {
    "collapsed": false
   },
   "outputs": [
    {
     "name": "stdout",
     "output_type": "stream",
     "text": [
      "<class 'numpy.ndarray'>\n[29 37 26]\n(400, 600, 3)\n[29 37 26]\n(240000, 3)\n(7200,)\n(400, 600, 3)\n(720000,)\n"
     ]
    }
   ],
   "source": [
    "data = np.asarray(img, dtype=\"int32\")\n",
    "print(type(data))\n",
    "print(data[2, 0])\n",
    "print(data.shape)\n",
    "# How to reshape a dataMatrix into a Vector.\n",
    "dataVector = data.reshape(-1)\n",
    "mMat = data.reshape(400*600, 3)\n",
    "print(mMat[1200])\n",
    "print(mMat.shape)\n",
    "\n",
    "# This will randomly get indexes to reduce the size by 100.\n",
    "randArray = np.random.choice(data.size, data.size // 100)\n",
    "print(randArray.shape)\n",
    "print(data.shape)\n",
    "print(dataVector.shape)"
   ]
  },
  {
   "cell_type": "code",
   "execution_count": 13,
   "metadata": {},
   "outputs": [
    {
     "name": "stdout",
     "output_type": "stream",
     "text": [
      "<zip object at 0x0000025BFC42F288>\n(10, 1)\n(12, 2)\n(14, 3)\n(16, 4)\n"
     ]
    }
   ],
   "source": [
    "l = [10,12,14,16,18,20]\n",
    "l1 = np.add(range(4),1)\n",
    "l2 = zip(l, l1)\n",
    "print(l2)\n",
    "for i in l2:\n",
    "    print(i)"
   ]
  },
  {
   "cell_type": "code",
   "execution_count": 106,
   "metadata": {},
   "outputs": [
    {
     "name": "stdout",
     "output_type": "stream",
     "text": [
      "[WindowsPath('../CatDogDataSet/test_images/1.jpg'), WindowsPath('../CatDogDataSet/test_images/10.jpg'), WindowsPath('../CatDogDataSet/test_images/11.jpg'), WindowsPath('../CatDogDataSet/test_images/12.jpg'), WindowsPath('../CatDogDataSet/test_images/13.jpg'), WindowsPath('../CatDogDataSet/test_images/14.jpg'), WindowsPath('../CatDogDataSet/test_images/15.jpg'), WindowsPath('../CatDogDataSet/test_images/16.jpg'), WindowsPath('../CatDogDataSet/test_images/17.jpg'), WindowsPath('../CatDogDataSet/test_images/18.jpg'), WindowsPath('../CatDogDataSet/test_images/19.jpg'), WindowsPath('../CatDogDataSet/test_images/2.jpg'), WindowsPath('../CatDogDataSet/test_images/20.jpg'), WindowsPath('../CatDogDataSet/test_images/21.jpg'), WindowsPath('../CatDogDataSet/test_images/22.jpg'), WindowsPath('../CatDogDataSet/test_images/23.jpg'), WindowsPath('../CatDogDataSet/test_images/24.jpg'), WindowsPath('../CatDogDataSet/test_images/25.jpg'), WindowsPath('../CatDogDataSet/test_images/26.jpg'), WindowsPath('../CatDogDataSet/test_images/27.jpg'), WindowsPath('../CatDogDataSet/test_images/28.jpg'), WindowsPath('../CatDogDataSet/test_images/29.jpg'), WindowsPath('../CatDogDataSet/test_images/3.jpg'), WindowsPath('../CatDogDataSet/test_images/30.jpg'), WindowsPath('../CatDogDataSet/test_images/31.jpg'), WindowsPath('../CatDogDataSet/test_images/32.jpg'), WindowsPath('../CatDogDataSet/test_images/33.jpg'), WindowsPath('../CatDogDataSet/test_images/34.jpg'), WindowsPath('../CatDogDataSet/test_images/35.jpg'), WindowsPath('../CatDogDataSet/test_images/36.jpg'), WindowsPath('../CatDogDataSet/test_images/37.jpg'), WindowsPath('../CatDogDataSet/test_images/38.jpg'), WindowsPath('../CatDogDataSet/test_images/39.jpg'), WindowsPath('../CatDogDataSet/test_images/4.jpg'), WindowsPath('../CatDogDataSet/test_images/40.jpg'), WindowsPath('../CatDogDataSet/test_images/41.jpg'), WindowsPath('../CatDogDataSet/test_images/42.jpg'), WindowsPath('../CatDogDataSet/test_images/43.jpg'), WindowsPath('../CatDogDataSet/test_images/44.jpg'), WindowsPath('../CatDogDataSet/test_images/5.jpg'), WindowsPath('../CatDogDataSet/test_images/6.jpg'), WindowsPath('../CatDogDataSet/test_images/7.jpg'), WindowsPath('../CatDogDataSet/test_images/8.jpg'), WindowsPath('../CatDogDataSet/test_images/9.jpg')]\n"
     ]
    }
   ],
   "source": [
    "TRI_DIR = Path('../CatDogDataSet/test_images')\n",
    "test_img = [x for x in TRI_DIR.iterdir() if TRI_DIR.is_dir() and '.jpg' in str(x).lower()]\n",
    "# test_img  = [x for x in test_img if '.jpg' in str(x).lower()]\n",
    "print(test_img)"
   ]
  },
  {
   "cell_type": "code",
   "execution_count": 102,
   "metadata": {},
   "outputs": [],
   "source": [
    ""
   ]
  }
 ],
 "metadata": {
  "kernelspec": {
   "display_name": "Python 2",
   "language": "python",
   "name": "python2"
  },
  "language_info": {
   "codemirror_mode": {
    "name": "ipython",
    "version": 2.0
   },
   "file_extension": ".py",
   "mimetype": "text/x-python",
   "name": "python",
   "nbconvert_exporter": "python",
   "pygments_lexer": "ipython2",
   "version": "2.7.6"
  }
 },
 "nbformat": 4,
 "nbformat_minor": 0
}