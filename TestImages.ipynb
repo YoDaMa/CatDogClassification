{
 "cells": [
  {
   "cell_type": "code",
   "execution_count": 36,
   "metadata": {
    "collapsed": true
   },
   "outputs": [
    {
     "name": "stdout",
     "output_type": "stream",
     "text": [
      "..\\CatDogDataSet\\images\\Abyssinian_49.jpg\n..\\CatDogDataSet\\annotations\\trimaps\\Abyssinian_51.png\n"
     ]
    }
   ],
   "source": [
    "from pathlib import Path\n",
    "TRI_DIR = Path('../CatDogDataSet/annotations/trimaps')\n",
    "IMG_DIR = Path('../CatDogDataSet/images')\n",
    "BASE_DIR = Path('.')\n",
    "tri_img = [x for x in TRI_DIR.iterdir() if TRI_DIR.is_dir()]\n",
    "train_img = [x for x in IMG_DIR.iterdir() if IMG_DIR.is_dir()]\n",
    "test_img = [x for x in tri_img if '._' not in str(x)]\n",
    "print(train_img[150])\n",
    "print(test_img[150])"
   ]
  },
  {
   "cell_type": "code",
   "execution_count": 44,
   "metadata": {},
   "outputs": [
    {
     "name": "stdout",
     "output_type": "stream",
     "text": [
      "<class 'numpy.uint8'>\n(128, 128, 3)\n12\n(3, 128, 128)\n"
     ]
    },
    {
     "data": {
      "text/plain": [
       "12"
      ]
     },
     "execution_count": 44,
     "metadata": {},
     "output_type": "execute_result"
    }
   ],
   "source": [
    "import cv2\n",
    "\n",
    "im = cv2.imread(str(train_img[150]), cv2.IMREAD_COLOR)\n",
    "im = cv2.resize(im, (128, 128), interpolation=cv2.INTER_CUBIC)\n",
    "print(type(im[7,7,1]))\n",
    "print(im.shape)\n",
    "# When you take the transpose it is now RGB, Column, Row.\n",
    "data = np.transpose(im)\n",
    "print(im[7,5,1])\n",
    "print(data.shape)\n",
    "data[1,5,7]"
   ]
  },
  {
   "cell_type": "code",
   "execution_count": 60,
   "metadata": {
    "collapsed": false
   },
   "outputs": [
    {
     "name": "stdout",
     "output_type": "stream",
     "text": [
      "<PIL.Image.Image image mode=L size=600x400 at 0x26BA00C60B8>\nPNG (600, 400) L\nMatrix Dimensions: (700, 700)\nType Pix: <class 'PixelAccess'>\nPixelArray: <PixelAccess object at 0x0000026BA2F3BAD0>\n"
     ]
    },
    {
     "data": {
      "image/png": "[encoded data removed]",
      "text/plain": [
       "<matplotlib.figure.Figure at 0x26ba2fb69b0>"
      ]
     },
     "metadata": {},
     "output_type": "display_data"
    }
   ],
   "source": [
    "from PIL import Image\n",
    "import numpy as np\n",
    "\n",
    "# Pixel Annotations: 1: Foreground 2:Background 3: Not classified\n",
    "\n",
    "size = 700\n",
    "img = Image.open(test_img[0])\n",
    "\n",
    "img_y, img_b, img_r = img.convert('YCbCr').split()\n",
    "print(img_y)\n",
    "\n",
    "img_ybr = Image.merge('YCbCr', (img_y, img_b, img_r))\n",
    "# img.show()\n",
    "n_x, n_y = img.size\n",
    "\n",
    "if n_y > n_x:\n",
    "    n_y_new = size\n",
    "    n_x_new = round(size * n_x / n_y)\n",
    "else:\n",
    "    n_x_new = size\n",
    "    n_y_new = round(size * n_y / n_x)\n",
    "\n",
    "\n",
    "print(img.format, img.size, img.mode)\n",
    "img_pad = Image.new('L', (size,size), 2)\n",
    "ulc = ((size - n_x_new) // 2, (size - n_y_new) // 2)\n",
    "img_pad.paste(img, ulc)\n",
    "img_mat = np.asarray(img_pad, dtype=np.uint8)\n",
    "print(\"Matrix Dimensions:\",img_mat.shape)\n",
    "pix = img_pad.load()\n",
    "print(\"Type Pix:\", type(pix))\n",
    "pixarray = np.asarray(pix)\n",
    "print(\"PixelArray:\", pixarray)\n",
    "# print(type(pixarray))\n",
    "# for x in range(200):\n",
    "#     for y in range(600):\n",
    "#         pix[x, y] = 0\n",
    "# pix[200, 600] = 2\n",
    "# print(pix[600, 400])\n",
    "# img_change[10:100, 10:100] = 4\n",
    "# pixarray1 = Image.fromarray(pixarray, 'L')\n",
    "plt.imshow(img_pad)\n",
    "plt.show()\n",
    "# img_pad.save('TEST.png')"
   ]
  },
  {
   "cell_type": "code",
   "execution_count": 39,
   "metadata": {
    "collapsed": true
   },
   "outputs": [
    {
     "name": "stdout",
     "output_type": "stream",
     "text": [
      "[112  85  58]\n"
     ]
    }
   ],
   "source": [
    "import matplotlib.pyplot as plt\n",
    "from scipy.misc import imread\n",
    "\n",
    "tri = imread(train_img[0])\n",
    "# print(tri)\n",
    "# It looks like it treats it as row, column, rather than x, y.\n",
    "print(tri[200, 300])\n",
    "plt.imshow(tri)\n",
    "plt.show()\n",
    "print(\"Hello\")"
   ]
  },
  {
   "cell_type": "code",
   "execution_count": 40,
   "metadata": {
    "collapsed": false
   },
   "outputs": [
    {
     "name": "stdout",
     "output_type": "stream",
     "text": [
      "<PIL.Image.Image image mode=L size=600x400 at 0x26BA0562630>\nJPEG (600, 400) RGB\nType Pix: <class 'PixelAccess'>\nPixelArray: <PixelAccess object at 0x0000026B9FF6FB70>\n"
     ]
    }
   ],
   "source": [
    "# Pixel Annotations: 1: Foreground 2:Background 3: Not classified\n",
    "\n",
    "size = 700\n",
    "img = Image.open(train_img[0])\n",
    "\n",
    "img_y, img_b, img_r = img.convert('YCbCr').split()\n",
    "print(img_y)\n",
    "\n",
    "img_ybr = Image.merge('YCbCr', (img_y, img_b, img_r))\n",
    "# img.show()\n",
    "n_x, n_y = img.size\n",
    "print(img.format, img.size, img.mode)\n",
    "img_pad = Image.new('RGB', (size, size), (128, 128, 128))\n",
    "ulc = ((size - n_x) // 2, (size - n_y) // 2)\n",
    "img_pad.paste(img, ulc)\n",
    "pix = img.load()\n",
    "print(\"Type Pix:\", type(pix))\n",
    "pixarray = np.asarray(pix)\n",
    "print(\"PixelArray:\", pixarray)\n",
    "# print(type(pixarray))\n",
    "# for x in range(200):\n",
    "#     for y in range(600):\n",
    "#         pix[x, y] = 0\n",
    "# pix[200, 600] = 2\n",
    "# print(pix[10, 10])\n",
    "# img_change[10:100, 10:100] = 4\n",
    "# pixarray1 = Image.fromarray(pixarray, 'L')\n",
    "plt.imshow(img_pad)\n",
    "plt.show()\n",
    "# img_pad.save('TEST.png')"
   ]
  },
  {
   "cell_type": "code",
   "execution_count": 41,
   "metadata": {
    "collapsed": false
   },
   "outputs": [
    {
     "name": "stdout",
     "output_type": "stream",
     "text": [
      "<class 'numpy.ndarray'>\n[31 37 25]\n(7200,)\n(400, 600, 3)\n(720000,)\n"
     ]
    }
   ],
   "source": [
    "data = np.asarray(img, dtype=\"int32\")\n",
    "print(type(data))\n",
    "print(data[300, 1])\n",
    "# How to reshape a dataMatrix into a Vector.\n",
    "dataVector = data.reshape(-1)\n",
    "# This will randomly get indexes to reduce the size by 100.\n",
    "randArray = np.random.choice(data.size, data.size // 100)\n",
    "print(randArray.shape)\n",
    "print(data.shape)\n",
    "print(dataVector.shape)"
   ]
  },
  {
   "cell_type": "code",
   "execution_count": 54,
   "metadata": {},
   "outputs": [
    {
     "name": "stdout",
     "output_type": "stream",
     "text": [
      "<zip object at 0x0000026BA451EA08>\n(10, 1)\n(12, 2)\n(14, 3)\n(16, 4)\n"
     ]
    }
   ],
   "source": [
    "l = [10,12,14,16,18,20]\n",
    "l1 = np.add(range(4),1)\n",
    "l2 = zip(l, l1)\n",
    "print(l2)\n",
    "for i in l2:\n",
    "    print(i)"
   ]
  },
  {
   "cell_type": "code",
   "execution_count": 43,
   "metadata": {},
   "outputs": [],
   "source": [
    ""
   ]
  },
  {
   "cell_type": "code",
   "execution_count": null,
   "metadata": {},
   "outputs": [],
   "source": [
    ""
   ]
  }
 ],
 "metadata": {
  "kernelspec": {
   "display_name": "Python 2",
   "language": "python",
   "name": "python2"
  },
  "language_info": {
   "codemirror_mode": {
    "name": "ipython",
    "version": 2.0
   },
   "file_extension": ".py",
   "mimetype": "text/x-python",
   "name": "python",
   "nbconvert_exporter": "python",
   "pygments_lexer": "ipython2",
   "version": "2.7.6"
  }
 },
 "nbformat": 4,
 "nbformat_minor": 0
}